{
 "cells": [
  {
   "cell_type": "markdown",
   "id": "under-diana",
   "metadata": {},
   "source": [
    "# Задачи к первой лабораторной работе"
   ]
  },
  {
   "cell_type": "markdown",
   "id": "swiss-bermuda",
   "metadata": {},
   "source": [
    "# Задача 1"
   ]
  },
  {
   "cell_type": "code",
   "execution_count": 5,
   "id": "indoor-costa",
   "metadata": {},
   "outputs": [],
   "source": [
    "import numpy\n",
    "def matrixgenerate():\n",
    "    n=int(input())\n",
    "    massiv = numpy.random.random_integers(0, 20, size=(n))\n",
    "    \n",
    "    for i, j in enumerate(massiv):\n",
    "        print(\"massiv[\", i, \"]=\", j)\n",
    "    return massiv\n",
    "def perimetr(massiv):\n",
    "    massiv=sorted(massiv, reverse=True)\n",
    "    for i in range(len(massiv)-2):\n",
    "        if massiv[i]<massiv[i+1]+massiv[i+2]:\n",
    "            return massiv[i]+massiv[i+1]+massiv[i+2]"
   ]
  },
  {
   "cell_type": "code",
   "execution_count": 6,
   "id": "happy-collect",
   "metadata": {},
   "outputs": [
    {
     "name": "stdout",
     "output_type": "stream",
     "text": [
      "10\n",
      "massiv[ 0 ]= 7\n",
      "massiv[ 1 ]= 3\n",
      "massiv[ 2 ]= 7\n",
      "massiv[ 3 ]= 19\n",
      "massiv[ 4 ]= 7\n",
      "massiv[ 5 ]= 20\n",
      "massiv[ 6 ]= 19\n",
      "massiv[ 7 ]= 9\n",
      "massiv[ 8 ]= 2\n",
      "massiv[ 9 ]= 3\n",
      "58\n"
     ]
    },
    {
     "name": "stderr",
     "output_type": "stream",
     "text": [
      "<ipython-input-5-9518fbb5a8ef>:4: DeprecationWarning: This function is deprecated. Please call randint(0, 20 + 1) instead\n",
      "  massiv = numpy.random.random_integers(0, 20, size=(n))\n"
     ]
    }
   ],
   "source": [
    "massiv=matrixgenerate()\n",
    "P=perimetr(massiv)\n",
    "print(P)"
   ]
  },
  {
   "cell_type": "markdown",
   "id": "gross-drilling",
   "metadata": {},
   "source": [
    "# Задача 2"
   ]
  },
  {
   "cell_type": "code",
   "execution_count": null,
   "id": "adolescent-trinidad",
   "metadata": {},
   "outputs": [],
   "source": [
    "def check(a,b):\n",
    "    one=str(a)+str(b)\n",
    "    two=str(b)+str(a)\n",
    "    if int(one)>int(two):\n",
    "        return True\n",
    "    else:\n",
    "        return False\n",
    "    \n",
    "def shell(massline):\n",
    "    length=len(massline)\n",
    "    l=length\n",
    "    while l>0:\n",
    "        for i in range(length-l):\n",
    "            j=i\n",
    "            while j>=0 and check(massline[j+l], massline[j]):\n",
    "                massline[j], massline[j+l]=massline[j+l], massline[j]\n",
    "                j=j-l\n",
    "        l=int(l/2)\n",
    "    strr=\"\"\n",
    "    for i in range(len(massline)):\n",
    "        strr=strr+\" \"+str(massline[i])\n",
    "    return strr\n",
    "\n",
    "mas1=[8308,8308,830]\n",
    "mas2=[99991,9]\n",
    "mas3=[3,30,34,5,9]\n",
    "print(shell(mas1))\n",
    "print(shell(mas2))\n",
    "print(shell(mas3))"
   ]
  },
  {
   "cell_type": "markdown",
   "id": "objective-accountability",
   "metadata": {},
   "source": [
    "# Задача 3"
   ]
  },
  {
   "cell_type": "code",
   "execution_count": 8,
   "id": "rocky-mambo",
   "metadata": {},
   "outputs": [
    {
     "name": "stdout",
     "output_type": "stream",
     "text": [
      "Введите m и n:5 4\n",
      "[[15  1 20  0]\n",
      " [12 16 13 17]\n",
      " [17 20 19 19]\n",
      " [20 10  0 10]\n",
      " [ 6  1  0 15]]\n",
      "заменяет  10  на  15\n",
      "заменяет  17  на  20\n",
      "заменяет  0  на  12\n",
      "заменяет  15  на  16\n",
      "заменяет  10  на  17\n",
      "заменяет  0  на  10\n",
      "заменяет  12  на  20\n",
      "заменяет  16  на  19\n",
      "заменяет  1  на  20\n",
      "заменяет  10  на  17\n",
      "заменяет  15  на  20\n",
      "\n",
      "\n",
      "[[10  1 17  0]\n",
      " [ 0 15 13 20]\n",
      " [ 0 12 16 19]\n",
      " [ 1 10 15 19]\n",
      " [ 6 20 17 20]]\n"
     ]
    },
    {
     "name": "stderr",
     "output_type": "stream",
     "text": [
      "<ipython-input-8-5a0ebf00e0be>:3: DeprecationWarning: This function is deprecated. Please call randint(0, 20 + 1) instead\n",
      "  massiv = numpy.random.random_integers(0, 20, size=(m, n))\n"
     ]
    }
   ],
   "source": [
    "import numpy\n",
    "m, n= map(int, input('Введите m и n:').split(' '))\n",
    "massiv = numpy.random.random_integers(0, 20, size=(m, n))\n",
    "print(massiv)\n",
    "for i in range(0,m):\n",
    "    for j in range(0,n):\n",
    "        l=j\n",
    "        k=i\n",
    "        while k<m and l<n:\n",
    "            if massiv[i][j]>massiv[k][l]:\n",
    "                print (\"заменяет \" , massiv[k][l] ,\" на \" , massiv[i][j] )\n",
    "                massiv[i][j], massiv[k][l]=massiv[k][l], massiv[i][j]\n",
    "            k=k+1\n",
    "            l=l+1\n",
    "print(\"\\n\")\n",
    "print(massiv)"
   ]
  },
  {
   "cell_type": "code",
   "execution_count": null,
   "id": "parliamentary-profession",
   "metadata": {},
   "outputs": [],
   "source": []
  },
  {
   "cell_type": "code",
   "execution_count": null,
   "id": "enabling-synthesis",
   "metadata": {},
   "outputs": [],
   "source": []
  },
  {
   "cell_type": "code",
   "execution_count": null,
   "id": "adolescent-swiss",
   "metadata": {},
   "outputs": [],
   "source": []
  },
  {
   "cell_type": "code",
   "execution_count": null,
   "id": "superb-conviction",
   "metadata": {},
   "outputs": [],
   "source": []
  }
 ],
 "metadata": {
  "kernelspec": {
   "display_name": "Python 3",
   "language": "python",
   "name": "python3"
  },
  "language_info": {
   "codemirror_mode": {
    "name": "ipython",
    "version": 3
   },
   "file_extension": ".py",
   "mimetype": "text/x-python",
   "name": "python",
   "nbconvert_exporter": "python",
   "pygments_lexer": "ipython3",
   "version": "3.9.1"
  }
 },
 "nbformat": 4,
 "nbformat_minor": 5
}
