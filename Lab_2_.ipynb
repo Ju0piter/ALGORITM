{
 "cells": [
  {
   "cell_type": "markdown",
   "id": "competitive-glance",
   "metadata": {},
   "source": [
    "# Лабораторная работа 2\n"
   ]
  },
  {
   "cell_type": "markdown",
   "id": "yellow-heater",
   "metadata": {},
   "source": [
    "## Выполнил Бритвин Дмитрий"
   ]
  },
  {
   "cell_type": "code",
   "execution_count": null,
   "id": "excess-carroll",
   "metadata": {},
   "outputs": [],
   "source": []
  },
  {
   "cell_type": "code",
   "execution_count": 77,
   "id": "resistant-sharing",
   "metadata": {},
   "outputs": [],
   "source": [
    "import numpy\n",
    "import time\n",
    "\n",
    "class binary_search:\n",
    "    \n",
    "        def __init__(self):\n",
    "            \n",
    "            n = int(input())\n",
    "            min_limit = -40\n",
    "            max_limit = 40\n",
    "            self.matrixx = numpy.random.random_integers(min_limit,max_limit, n)\n",
    "            self.matrixx.sort()\n",
    "            \n",
    "    \n",
    "        def BinSearchVirt(self,x):\n",
    "            \n",
    "            i = 0\n",
    "            j = len(self.matrixx)-1\n",
    "            while i < j:\n",
    "                m = int((i+j)/2)\n",
    "                if x > self.matrixx[m]:\n",
    "                    i = m+1\n",
    "                else:\n",
    "                    j = m\n",
    "            #тут не важно j или i\n",
    "            if self.matrixx[j] == x:\n",
    "                return j\n",
    "            else:\n",
    "                return None\n",
    "        "
   ]
  },
  {
   "cell_type": "code",
   "execution_count": null,
   "id": "heard-librarian",
   "metadata": {},
   "outputs": [],
   "source": []
  },
  {
   "cell_type": "code",
   "execution_count": 78,
   "id": "dying-preserve",
   "metadata": {},
   "outputs": [
    {
     "name": "stdout",
     "output_type": "stream",
     "text": [
      "10\n"
     ]
    },
    {
     "name": "stderr",
     "output_type": "stream",
     "text": [
      "<ipython-input-77-c8bf2d1b9698>:11: DeprecationWarning: This function is deprecated. Please call randint(-40, 40 + 1) instead\n",
      "  self.matrixx = numpy.random.random_integers(min_limit,max_limit, n)\n"
     ]
    },
    {
     "name": "stdout",
     "output_type": "stream",
     "text": [
      "-28 -23 -19 -11 -8 -6 -4 15 18 26\n",
      "ВВедите число,индекс которого нужно найти -8\n",
      "4\n"
     ]
    }
   ],
   "source": [
    "a=binary_search()\n",
    "print(*a.matrixx)\n",
    "b=int(input(\"ВВедите число,индекс которого нужно найти \"))\n",
    "print(a.BinSearchVirt(b))\n",
    "\n"
   ]
  },
  {
   "cell_type": "code",
   "execution_count": null,
   "id": "accepted-penny",
   "metadata": {},
   "outputs": [],
   "source": []
  },
  {
   "cell_type": "code",
   "execution_count": null,
   "id": "environmental-insertion",
   "metadata": {},
   "outputs": [],
   "source": []
  },
  {
   "cell_type": "code",
   "execution_count": null,
   "id": "contrary-notice",
   "metadata": {},
   "outputs": [],
   "source": []
  },
  {
   "cell_type": "code",
   "execution_count": null,
   "id": "detailed-payment",
   "metadata": {},
   "outputs": [],
   "source": []
  },
  {
   "cell_type": "code",
   "execution_count": null,
   "id": "divided-dragon",
   "metadata": {},
   "outputs": [],
   "source": []
  },
  {
   "cell_type": "code",
   "execution_count": null,
   "id": "dressed-connecticut",
   "metadata": {},
   "outputs": [],
   "source": []
  }
 ],
 "metadata": {
  "kernelspec": {
   "display_name": "Python 3",
   "language": "python",
   "name": "python3"
  },
  "language_info": {
   "codemirror_mode": {
    "name": "ipython",
    "version": 3
   },
   "file_extension": ".py",
   "mimetype": "text/x-python",
   "name": "python",
   "nbconvert_exporter": "python",
   "pygments_lexer": "ipython3",
   "version": "3.9.1"
  }
 },
 "nbformat": 4,
 "nbformat_minor": 5
}
