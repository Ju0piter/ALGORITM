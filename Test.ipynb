{
 "cells": [
  {
   "cell_type": "code",
   "execution_count": null,
   "id": "north-friend",
   "metadata": {},
   "outputs": [],
   "source": [
    "#Задача с ферзями\n"
   ]
  },
  {
   "cell_type": "code",
   "execution_count": 36,
   "id": "cardiovascular-benjamin",
   "metadata": {
    "scrolled": true
   },
   "outputs": [
    {
     "name": "stdout",
     "output_type": "stream",
     "text": [
      ". Ф . . . . . .\n",
      ". . . Ф . . . .\n",
      ". . . . . Ф . .\n",
      ". . . . . . . Ф\n",
      ". . Ф . . . . .\n",
      "Ф . . . . . . .\n",
      ". . . . . . Ф .\n",
      ". . . . Ф . . .\n"
     ]
    }
   ],
   "source": [
    "n = 8\n",
    "even = list(range(1, n, 2))\n",
    "odd = list(range(2, n, 2))\n",
    "odd[1] = 0\n",
    "odd.append(4)\n",
    "result = even + odd\n",
    "row = ['.'] * n\n",
    "for i in range(n):\n",
    "    j = result[i]\n",
    "    row[j] = 'Ф'\n",
    "    print(*row)\n",
    "    row[j] = '.'\n"
   ]
  },
  {
   "cell_type": "code",
   "execution_count": null,
   "id": "solid-listing",
   "metadata": {},
   "outputs": [],
   "source": []
  },
  {
   "cell_type": "code",
   "execution_count": null,
   "id": "common-tongue",
   "metadata": {},
   "outputs": [],
   "source": []
  }
 ],
 "metadata": {
  "kernelspec": {
   "display_name": "Python 3",
   "language": "python",
   "name": "python3"
  },
  "language_info": {
   "codemirror_mode": {
    "name": "ipython",
    "version": 3
   },
   "file_extension": ".py",
   "mimetype": "text/x-python",
   "name": "python",
   "nbconvert_exporter": "python",
   "pygments_lexer": "ipython3",
   "version": "3.9.1"
  }
 },
 "nbformat": 4,
 "nbformat_minor": 5
}
